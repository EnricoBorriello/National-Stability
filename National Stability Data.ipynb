{
 "cells": [
  {
   "cell_type": "code",
   "execution_count": 5,
   "id": "ec72b742",
   "metadata": {},
   "outputs": [],
   "source": [
    "import pandas as pd\n",
    "import matplotlib.pyplot as plt\n",
    "from itertools import count\n",
    "import numpy as np\n",
    "import sklearn as skl"
   ]
  },
  {
   "cell_type": "code",
   "execution_count": 8,
   "id": "485bb69b",
   "metadata": {},
   "outputs": [
    {
     "name": "stdout",
     "output_type": "stream",
     "text": [
      "Name: seaborn\r\n",
      "Version: 0.12.1\r\n",
      "Summary: Statistical data visualization\r\n",
      "Home-page: None\r\n",
      "Author: None\r\n",
      "Author-email: Michael Waskom <mwaskom@gmail.com>\r\n",
      "License: None\r\n",
      "Location: /usr/local/lib/python3.9/site-packages\r\n",
      "Requires: numpy, pandas, matplotlib\r\n",
      "Required-by: ydata-profiling\r\n"
     ]
    }
   ],
   "source": [
    "import seaborn as sb\n",
    "!pip show seaborn"
   ]
  },
  {
   "cell_type": "markdown",
   "id": "ed376e6e",
   "metadata": {},
   "source": [
    "**Shade:** I attach one year of data that I am running regressions on. It is not large – about 200 countries by 21 variables: \n",
    "\n",
    "6 dependent variables, \n",
    "\n",
    "13 triad (independent) variables, and \n",
    "\n",
    "2 control variables. One of the control variables I build from the attached data – per capita GDP.  \n",
    "\n",
    "I have the same dataset for about 17 years (and slowly adding more).\n",
    "\n",
    "The dependent variables are 6 separate index values published annually by the World Bank covering different dimensions of national stability. Each index has a continuous values from around -2.5 to +2.5. Higher values are better (more stable) countries. They indexes are:\n",
    "\n",
    "Voice and accountability\n",
    "\n",
    "Political stability\n",
    "\n",
    "Government effectiveness\n",
    "\n",
    "Regulatory quality\n",
    "\n",
    "Rule of law\n",
    "\n",
    "Control of corruption\n",
    " \n",
    "\n",
    "For each index, I wanted to see if any triads are related to higher index scores. The literature predicts that triad 13 should be positively related to stability and triad 6 should be negatively related. Beyond that, there is almost no literature. There is some literature that says triad 7 is positively related to improved regulatory networks. Beyond those 3 triads, there is basically no literature that I know of.\n",
    "\n",
    " \n",
    "\n",
    "My first thought was just to do a simple correlation between each triad separately. But I think it will make a better paper to do also a multivariate regression. Here is where I need help though. For me it seems like 13 independent variables is too many, but I don’t know the correct way to reduce this number. I could find no multicollinearity among the variables. Also, these are not truly independent variables. As you pointed out, when one triad increases, others must decrease (As a percent of total).\n",
    "\n",
    " \n",
    "\n",
    "If you are interested to work on this, you would of course be welcome to be a co-author, but also, if you are in need of some summer salary we can do that also! Let me know what you think,\n",
    "\n",
    "Shade\n"
   ]
  },
  {
   "cell_type": "markdown",
   "id": "095cc8df",
   "metadata": {},
   "source": [
    "**Enrico:** All 6 stability indices are bounded within $\\pm$ 2.5. Rescale them between zero and 1, then perform logistic regression."
   ]
  },
  {
   "cell_type": "code",
   "execution_count": 11,
   "id": "56c2b046",
   "metadata": {
    "scrolled": true
   },
   "outputs": [
    {
     "name": "stdout",
     "output_type": "stream",
     "text": [
      "/Users/Enrico/Desktop/GDP\r\n"
     ]
    }
   ],
   "source": [
    "!pwd"
   ]
  },
  {
   "cell_type": "code",
   "execution_count": 4,
   "id": "f91c5e3b",
   "metadata": {},
   "outputs": [],
   "source": [
    "df = pd.read_csv('data_2019.csv')"
   ]
  },
  {
   "cell_type": "code",
   "execution_count": 12,
   "id": "0388baab",
   "metadata": {},
   "outputs": [
    {
     "name": "stdout",
     "output_type": "stream",
     "text": [
      "<class 'pandas.core.frame.DataFrame'>\n",
      "RangeIndex: 228 entries, 0 to 227\n",
      "Data columns (total 24 columns):\n",
      " #   Column           Non-Null Count  Dtype  \n",
      "---  ------           --------------  -----  \n",
      " 0   yr               228 non-null    int64  \n",
      " 1   harmonized.name  228 non-null    object \n",
      " 2   triad_01         205 non-null    float64\n",
      " 3   triad_02         205 non-null    float64\n",
      " 4   triad_03         205 non-null    float64\n",
      " 5   triad_04         205 non-null    float64\n",
      " 6   triad_05         205 non-null    float64\n",
      " 7   triad_06         205 non-null    float64\n",
      " 8   triad_07         205 non-null    float64\n",
      " 9   triad_08         205 non-null    float64\n",
      " 10  triad_09         205 non-null    float64\n",
      " 11  triad_10         205 non-null    float64\n",
      " 12  triad_11         205 non-null    float64\n",
      " 13  triad_12         205 non-null    float64\n",
      " 14  triad_13         205 non-null    float64\n",
      " 15  wgi.corrupt      208 non-null    float64\n",
      " 16  wgi.govt         208 non-null    float64\n",
      " 17  wgi.stability    211 non-null    float64\n",
      " 18  wgi.regulatory   208 non-null    float64\n",
      " 19  wgi.law          208 non-null    float64\n",
      " 20  wgi.voice        206 non-null    float64\n",
      " 21  gdp              207 non-null    float64\n",
      " 22  pop              217 non-null    float64\n",
      " 23  pc.gdp           207 non-null    float64\n",
      "dtypes: float64(22), int64(1), object(1)\n",
      "memory usage: 42.9+ KB\n"
     ]
    }
   ],
   "source": [
    "df.info()"
   ]
  },
  {
   "cell_type": "code",
   "execution_count": 17,
   "id": "29365481",
   "metadata": {
    "scrolled": true
   },
   "outputs": [],
   "source": [
    "# remove countries with NaN value\n",
    "df = df.dropna(axis=0)"
   ]
  },
  {
   "cell_type": "code",
   "execution_count": 18,
   "id": "90a05d5e",
   "metadata": {},
   "outputs": [
    {
     "name": "stdout",
     "output_type": "stream",
     "text": [
      "<class 'pandas.core.frame.DataFrame'>\n",
      "Int64Index: 186 entries, 0 to 227\n",
      "Data columns (total 24 columns):\n",
      " #   Column           Non-Null Count  Dtype  \n",
      "---  ------           --------------  -----  \n",
      " 0   yr               186 non-null    int64  \n",
      " 1   harmonized.name  186 non-null    object \n",
      " 2   triad_01         186 non-null    float64\n",
      " 3   triad_02         186 non-null    float64\n",
      " 4   triad_03         186 non-null    float64\n",
      " 5   triad_04         186 non-null    float64\n",
      " 6   triad_05         186 non-null    float64\n",
      " 7   triad_06         186 non-null    float64\n",
      " 8   triad_07         186 non-null    float64\n",
      " 9   triad_08         186 non-null    float64\n",
      " 10  triad_09         186 non-null    float64\n",
      " 11  triad_10         186 non-null    float64\n",
      " 12  triad_11         186 non-null    float64\n",
      " 13  triad_12         186 non-null    float64\n",
      " 14  triad_13         186 non-null    float64\n",
      " 15  wgi.corrupt      186 non-null    float64\n",
      " 16  wgi.govt         186 non-null    float64\n",
      " 17  wgi.stability    186 non-null    float64\n",
      " 18  wgi.regulatory   186 non-null    float64\n",
      " 19  wgi.law          186 non-null    float64\n",
      " 20  wgi.voice        186 non-null    float64\n",
      " 21  gdp              186 non-null    float64\n",
      " 22  pop              186 non-null    float64\n",
      " 23  pc.gdp           186 non-null    float64\n",
      "dtypes: float64(22), int64(1), object(1)\n",
      "memory usage: 36.3+ KB\n"
     ]
    }
   ],
   "source": [
    "df.info()"
   ]
  },
  {
   "cell_type": "code",
   "execution_count": 37,
   "id": "c2aa8379",
   "metadata": {},
   "outputs": [],
   "source": [
    "# 1. Replace missing data withtheir median\n",
    "# 2. Feature Scaling -> Standardization\n",
    "\n",
    "from sklearn.pipeline import Pipeline\n",
    "from sklearn.impute import SimpleImputer\n",
    "from sklearn.preprocessing import StandardScaler\n",
    "\n",
    "num_pipeline = Pipeline([\n",
    "        ('imputer',SimpleImputer(strategy='median')),\n",
    "        ('std_scaler',StandardScaler())\n",
    "    ])\n",
    "\n",
    "\n",
    "#Replace all missing entries with their medians\n",
    "\n",
    "imputer = SimpleImputer(strategy='median')\n",
    "imputer.fit(features)\n",
    "\n",
    "X = num_pipeline.fit_transform(features)\n",
    "features = pd.DataFrame(X,columns=features.columns,index=features.index)"
   ]
  },
  {
   "cell_type": "code",
   "execution_count": 20,
   "id": "40a259de",
   "metadata": {},
   "outputs": [],
   "source": [
    "# Linear Fit\n",
    "from sklearn.linear_model import LinearRegression\n",
    "from sklearn.model_selection import train_test_split"
   ]
  },
  {
   "cell_type": "code",
   "execution_count": 38,
   "id": "76b419d2",
   "metadata": {},
   "outputs": [],
   "source": [
    "train_set, test_set = train_test_split(df, test_size=0.2,random_state=42)"
   ]
  },
  {
   "cell_type": "code",
   "execution_count": 39,
   "id": "eb49e4f7",
   "metadata": {},
   "outputs": [
    {
     "data": {
      "text/plain": [
       "38"
      ]
     },
     "execution_count": 39,
     "metadata": {},
     "output_type": "execute_result"
    }
   ],
   "source": [
    "len(test_set)"
   ]
  },
  {
   "cell_type": "code",
   "execution_count": 83,
   "id": "5577d976",
   "metadata": {},
   "outputs": [],
   "source": [
    "# columns to drop in the input matrix:\n",
    "list = ['harmonized.name','yr',\n",
    "        'wgi.corrupt','wgi.govt','wgi.stability','wgi.regulatory','wgi.law','wgi.voice',\n",
    "        'gdp','pop','pc.gdp']\n",
    "\n",
    "features = train_set.drop(list,axis=1)\n",
    "labels = train_set['wgi.voice'].copy()\n",
    "\n",
    "X = num_pipeline.fit_transform(features)\n",
    "features = pd.DataFrame(X,columns=features.columns,index=features.index)"
   ]
  },
  {
   "cell_type": "code",
   "execution_count": 84,
   "id": "b1d4c75f",
   "metadata": {},
   "outputs": [
    {
     "data": {
      "text/plain": [
       "LinearRegression()"
      ]
     },
     "execution_count": 84,
     "metadata": {},
     "output_type": "execute_result"
    }
   ],
   "source": [
    "lin_reg = LinearRegression()\n",
    "lin_reg.fit(X,labels)"
   ]
  },
  {
   "cell_type": "code",
   "execution_count": 85,
   "id": "fb1d526b",
   "metadata": {},
   "outputs": [
    {
     "name": "stderr",
     "output_type": "stream",
     "text": [
      "/usr/local/lib/python3.9/site-packages/sklearn/base.py:443: UserWarning: X has feature names, but LinearRegression was fitted without feature names\n",
      "  warnings.warn(\n"
     ]
    },
    {
     "data": {
      "image/png": "[encoded data removed]",
      "text/plain": [
       "<Figure size 432x288 with 1 Axes>"
      ]
     },
     "metadata": {
      "needs_background": "light"
     },
     "output_type": "display_data"
    }
   ],
   "source": [
    "plt.scatter(labels,lin_reg.predict(features))\n",
    "plt.plot([-2.5,2.5],[-2.5,2.5],'--',c='k')\n",
    "plt.xlabel('actual')\n",
    "plt.ylabel('predicted')\n",
    "plt.show()"
   ]
  },
  {
   "cell_type": "code",
   "execution_count": 87,
   "id": "7abd0880",
   "metadata": {},
   "outputs": [
    {
     "data": {
      "text/plain": [
       "<AxesSubplot:>"
      ]
     },
     "execution_count": 87,
     "metadata": {},
     "output_type": "execute_result"
    },
    {
     "data": {
      "image/png": "[encoded data removed]",
      "text/plain": [
       "<Figure size 432x288 with 1 Axes>"
      ]
     },
     "metadata": {
      "needs_background": "light"
     },
     "output_type": "display_data"
    }
   ],
   "source": [
    "# 'wgi.corrupt','wgi.govt','wgi.stability','wgi.regulatory','wgi.law','wgi.voice',\n",
    "df['wgi.corrupt'].hist()"
   ]
  },
  {
   "cell_type": "code",
   "execution_count": 88,
   "id": "065bf4ed",
   "metadata": {},
   "outputs": [
    {
     "data": {
      "text/plain": [
       "<AxesSubplot:>"
      ]
     },
     "execution_count": 88,
     "metadata": {},
     "output_type": "execute_result"
    },
    {
     "data": {
      "image/png": "[encoded data removed]",
      "text/plain": [
       "<Figure size 432x288 with 1 Axes>"
      ]
     },
     "metadata": {
      "needs_background": "light"
     },
     "output_type": "display_data"
    }
   ],
   "source": [
    "# 'wgi.corrupt','wgi.govt','wgi.stability','wgi.regulatory','wgi.law','wgi.voice',\n",
    "df['wgi.govt'].hist()"
   ]
  },
  {
   "cell_type": "code",
   "execution_count": 89,
   "id": "655e0349",
   "metadata": {},
   "outputs": [
    {
     "data": {
      "text/plain": [
       "<AxesSubplot:>"
      ]
     },
     "execution_count": 89,
     "metadata": {},
     "output_type": "execute_result"
    },
    {
     "data": {
      "image/png": "[encoded data removed]",
      "text/plain": [
       "<Figure size 432x288 with 1 Axes>"
      ]
     },
     "metadata": {
      "needs_background": "light"
     },
     "output_type": "display_data"
    }
   ],
   "source": [
    "# 'wgi.corrupt','wgi.govt','wgi.stability','wgi.regulatory','wgi.law','wgi.voice',\n",
    "df['wgi.stability'].hist()"
   ]
  },
  {
   "cell_type": "code",
   "execution_count": 90,
   "id": "7e3c67e2",
   "metadata": {},
   "outputs": [
    {
     "data": {
      "text/plain": [
       "<AxesSubplot:>"
      ]
     },
     "execution_count": 90,
     "metadata": {},
     "output_type": "execute_result"
    },
    {
     "data": {
      "image/png": "[encoded data removed]",
      "text/plain": [
       "<Figure size 432x288 with 1 Axes>"
      ]
     },
     "metadata": {
      "needs_background": "light"
     },
     "output_type": "display_data"
    }
   ],
   "source": [
    "# 'wgi.corrupt','wgi.govt','wgi.stability','wgi.regulatory','wgi.law','wgi.voice',\n",
    "df['wgi.regulatory'].hist()"
   ]
  },
  {
   "cell_type": "code",
   "execution_count": 94,
   "id": "62e35a5e",
   "metadata": {},
   "outputs": [],
   "source": [
    "labels = ['wgi.corrupt','wgi.govt','wgi.stability','wgi.regulatory','wgi.law','wgi.voice']"
   ]
  },
  {
   "cell_type": "code",
   "execution_count": 95,
   "id": "c8c5af15",
   "metadata": {},
   "outputs": [
    {
     "name": "stdout",
     "output_type": "stream",
     "text": [
      "-1.70907258987427 2.16713047027588\n",
      "-2.25098657608032 2.21273446083069\n",
      "-2.72988080978394 1.8838939666748\n",
      "-2.28220462799072 2.1601128578186\n",
      "-2.37018537521362 2.04878187179565\n",
      "-2.1851224899292 1.6552220582962\n"
     ]
    }
   ],
   "source": [
    "for label in labels:\n",
    "    print(df[label].min(),df[label].max())"
   ]
  },
  {
   "cell_type": "code",
   "execution_count": 107,
   "id": "1e397062",
   "metadata": {},
   "outputs": [
    {
     "data": {
      "image/png": "[encoded data removed]",
      "text/plain": [
       "<Figure size 432x288 with 1 Axes>"
      ]
     },
     "metadata": {
      "needs_background": "light"
     },
     "output_type": "display_data"
    }
   ],
   "source": [
    "for label in labels:\n",
    "    plt.hist(df[label],alpha = 1, histtype='step',label=label)\n",
    "    plt.legend(loc=2)"
   ]
  },
  {
   "cell_type": "code",
   "execution_count": 115,
   "id": "ed13b228",
   "metadata": {},
   "outputs": [],
   "source": []
  },
  {
   "cell_type": "code",
   "execution_count": 113,
   "id": "8572ca73",
   "metadata": {},
   "outputs": [],
   "source": [
    "data = df.drop(['yr','harmonized.name'],axis=1)"
   ]
  },
  {
   "cell_type": "code",
   "execution_count": 117,
   "id": "70c03291",
   "metadata": {},
   "outputs": [
    {
     "data": {
      "image/png": "[encoded data removed]",
      "text/plain": [
       "<Figure size 432x288 with 2 Axes>"
      ]
     },
     "metadata": {
      "needs_background": "light"
     },
     "output_type": "display_data"
    }
   ],
   "source": [
    "dataplot = sb.heatmap(data.corr(), cmap=\"YlGnBu\", annot=False)\n"
   ]
  },
  {
   "cell_type": "code",
   "execution_count": 126,
   "id": "60a71760",
   "metadata": {},
   "outputs": [
    {
     "data": {
      "text/plain": [
       "<matplotlib.collections.PathCollection at 0x163bb1850>"
      ]
     },
     "execution_count": 126,
     "metadata": {},
     "output_type": "execute_result"
    },
    {
     "data": {
      "image/png": "[encoded data removed]",
      "text/plain": [
       "<Figure size 432x288 with 1 Axes>"
      ]
     },
     "metadata": {
      "needs_background": "light"
     },
     "output_type": "display_data"
    }
   ],
   "source": [
    "plt.scatter(df['triad_07'],df[labels[0]])"
   ]
  },
  {
   "cell_type": "code",
   "execution_count": 122,
   "id": "9304e09e",
   "metadata": {},
   "outputs": [
    {
     "data": {
      "text/html": [
       "<div>\n",
       "<style scoped>\n",
       "    .dataframe tbody tr th:only-of-type {\n",
       "        vertical-align: middle;\n",
       "    }\n",
       "\n",
       "    .dataframe tbody tr th {\n",
       "        vertical-align: top;\n",
       "    }\n",
       "\n",
       "    .dataframe thead th {\n",
       "        text-align: right;\n",
       "    }\n",
       "</style>\n",
       "<table border=\"1\" class=\"dataframe\">\n",
       "  <thead>\n",
       "    <tr style=\"text-align: right;\">\n",
       "      <th></th>\n",
       "      <th>triad_13</th>\n",
       "      <th>wgi.corrupt</th>\n",
       "    </tr>\n",
       "  </thead>\n",
       "  <tbody>\n",
       "    <tr>\n",
       "      <th>0</th>\n",
       "      <td>0.000000</td>\n",
       "      <td>-1.407710</td>\n",
       "    </tr>\n",
       "    <tr>\n",
       "      <th>1</th>\n",
       "      <td>0.000000</td>\n",
       "      <td>-0.543374</td>\n",
       "    </tr>\n",
       "    <tr>\n",
       "      <th>2</th>\n",
       "      <td>0.301411</td>\n",
       "      <td>-0.635694</td>\n",
       "    </tr>\n",
       "    <tr>\n",
       "      <th>3</th>\n",
       "      <td>0.000000</td>\n",
       "      <td>1.840800</td>\n",
       "    </tr>\n",
       "    <tr>\n",
       "      <th>4</th>\n",
       "      <td>0.000000</td>\n",
       "      <td>1.231043</td>\n",
       "    </tr>\n",
       "    <tr>\n",
       "      <th>...</th>\n",
       "      <td>...</td>\n",
       "      <td>...</td>\n",
       "    </tr>\n",
       "    <tr>\n",
       "      <th>220</th>\n",
       "      <td>0.000000</td>\n",
       "      <td>-0.259581</td>\n",
       "    </tr>\n",
       "    <tr>\n",
       "      <th>222</th>\n",
       "      <td>0.390289</td>\n",
       "      <td>-0.524321</td>\n",
       "    </tr>\n",
       "    <tr>\n",
       "      <th>224</th>\n",
       "      <td>0.000000</td>\n",
       "      <td>-0.330311</td>\n",
       "    </tr>\n",
       "    <tr>\n",
       "      <th>226</th>\n",
       "      <td>-0.160661</td>\n",
       "      <td>-0.662320</td>\n",
       "    </tr>\n",
       "    <tr>\n",
       "      <th>227</th>\n",
       "      <td>-0.029507</td>\n",
       "      <td>-1.273280</td>\n",
       "    </tr>\n",
       "  </tbody>\n",
       "</table>\n",
       "<p>186 rows × 2 columns</p>\n",
       "</div>"
      ],
      "text/plain": [
       "     triad_13  wgi.corrupt\n",
       "0    0.000000    -1.407710\n",
       "1    0.000000    -0.543374\n",
       "2    0.301411    -0.635694\n",
       "3    0.000000     1.840800\n",
       "4    0.000000     1.231043\n",
       "..        ...          ...\n",
       "220  0.000000    -0.259581\n",
       "222  0.390289    -0.524321\n",
       "224  0.000000    -0.330311\n",
       "226 -0.160661    -0.662320\n",
       "227 -0.029507    -1.273280\n",
       "\n",
       "[186 rows x 2 columns]"
      ]
     },
     "execution_count": 122,
     "metadata": {},
     "output_type": "execute_result"
    }
   ],
   "source": [
    "df[['triad_6',labels[0]]]"
   ]
  },
  {
   "cell_type": "code",
   "execution_count": 132,
   "id": "dc115205",
   "metadata": {},
   "outputs": [
    {
     "data": {
      "text/plain": [
       "<AxesSubplot:xlabel='triad_01', ylabel='triad_02'>"
      ]
     },
     "execution_count": 132,
     "metadata": {},
     "output_type": "execute_result"
    },
    {
     "data": {
      "image/png": "[encoded data removed]",
      "text/plain": [
       "<Figure size 432x288 with 1 Axes>"
      ]
     },
     "metadata": {
      "needs_background": "light"
     },
     "output_type": "display_data"
    }
   ],
   "source": [
    "sb.scatterplot(df, x=\"triad_01\", y=\"triad_02\")"
   ]
  },
  {
   "cell_type": "code",
   "execution_count": 141,
   "id": "03d524d9",
   "metadata": {},
   "outputs": [
    {
     "data": {
      "text/plain": [
       "Index(['yr', 'harmonized.name', 'triad_01', 'triad_02', 'triad_03', 'triad_04',\n",
       "       'triad_05', 'triad_06', 'triad_07', 'triad_08', 'triad_09', 'triad_10',\n",
       "       'triad_11', 'triad_12', 'triad_13', 'wgi.corrupt', 'wgi.govt',\n",
       "       'wgi.stability', 'wgi.regulatory', 'wgi.law', 'wgi.voice', 'gdp', 'pop',\n",
       "       'pc.gdp'],\n",
       "      dtype='object')"
      ]
     },
     "execution_count": 141,
     "metadata": {},
     "output_type": "execute_result"
    }
   ],
   "source": [
    "df.columns"
   ]
  },
  {
   "cell_type": "code",
   "execution_count": 144,
   "id": "5d0fdb61",
   "metadata": {},
   "outputs": [],
   "source": [
    "variables = np.array(df.columns)"
   ]
  },
  {
   "cell_type": "code",
   "execution_count": 145,
   "id": "bbfaf6f7",
   "metadata": {},
   "outputs": [
    {
     "data": {
      "text/plain": [
       "array(['yr', 'harmonized.name', 'triad_01', 'triad_02', 'triad_03',\n",
       "       'triad_04', 'triad_05', 'triad_06', 'triad_07', 'triad_08',\n",
       "       'triad_09', 'triad_10', 'triad_11', 'triad_12', 'triad_13',\n",
       "       'wgi.corrupt', 'wgi.govt', 'wgi.stability', 'wgi.regulatory',\n",
       "       'wgi.law', 'wgi.voice', 'gdp', 'pop', 'pc.gdp'], dtype=object)"
      ]
     },
     "execution_count": 145,
     "metadata": {},
     "output_type": "execute_result"
    }
   ],
   "source": [
    "variables"
   ]
  },
  {
   "cell_type": "code",
   "execution_count": 146,
   "id": "4d04abbd",
   "metadata": {},
   "outputs": [
    {
     "data": {
      "text/plain": [
       "<AxesSubplot:xlabel='triad_01', ylabel='wgi.voice'>"
      ]
     },
     "execution_count": 146,
     "metadata": {},
     "output_type": "execute_result"
    },
    {
     "data": {
      "image/png": "[encoded data removed]",
      "text/plain": [
       "<Figure size 432x288 with 1 Axes>"
      ]
     },
     "metadata": {
      "needs_background": "light"
     },
     "output_type": "display_data"
    }
   ],
   "source": [
    "var1 = 'triad_01'\n",
    "var2 = 'wgi.voice'\n",
    "\n",
    "sb.scatterplot(df, x=var1, y=var2)"
   ]
  },
  {
   "cell_type": "code",
   "execution_count": 149,
   "id": "eb478d95",
   "metadata": {},
   "outputs": [
    {
     "data": {
      "text/html": [
       "<div>\n",
       "<style scoped>\n",
       "    .dataframe tbody tr th:only-of-type {\n",
       "        vertical-align: middle;\n",
       "    }\n",
       "\n",
       "    .dataframe tbody tr th {\n",
       "        vertical-align: top;\n",
       "    }\n",
       "\n",
       "    .dataframe thead th {\n",
       "        text-align: right;\n",
       "    }\n",
       "</style>\n",
       "<table border=\"1\" class=\"dataframe\">\n",
       "  <thead>\n",
       "    <tr style=\"text-align: right;\">\n",
       "      <th></th>\n",
       "      <th>triad_01</th>\n",
       "      <th>wgi.voice</th>\n",
       "      <th>harmonized.name</th>\n",
       "    </tr>\n",
       "  </thead>\n",
       "  <tbody>\n",
       "    <tr>\n",
       "      <th>0</th>\n",
       "      <td>-0.185087</td>\n",
       "      <td>-1.006747</td>\n",
       "      <td>Afghanistan</td>\n",
       "    </tr>\n",
       "    <tr>\n",
       "      <th>1</th>\n",
       "      <td>0.068945</td>\n",
       "      <td>0.142711</td>\n",
       "      <td>Albania</td>\n",
       "    </tr>\n",
       "    <tr>\n",
       "      <th>2</th>\n",
       "      <td>-0.160862</td>\n",
       "      <td>-1.053524</td>\n",
       "      <td>Algeria</td>\n",
       "    </tr>\n",
       "    <tr>\n",
       "      <th>3</th>\n",
       "      <td>-0.364029</td>\n",
       "      <td>1.272709</td>\n",
       "      <td>American Samoa</td>\n",
       "    </tr>\n",
       "    <tr>\n",
       "      <th>4</th>\n",
       "      <td>-0.310922</td>\n",
       "      <td>1.110087</td>\n",
       "      <td>Andorra</td>\n",
       "    </tr>\n",
       "    <tr>\n",
       "      <th>...</th>\n",
       "      <td>...</td>\n",
       "      <td>...</td>\n",
       "      <td>...</td>\n",
       "    </tr>\n",
       "    <tr>\n",
       "      <th>220</th>\n",
       "      <td>-0.655749</td>\n",
       "      <td>0.680349</td>\n",
       "      <td>Vanuatu</td>\n",
       "    </tr>\n",
       "    <tr>\n",
       "      <th>222</th>\n",
       "      <td>0.084107</td>\n",
       "      <td>-1.405620</td>\n",
       "      <td>Viet Nam</td>\n",
       "    </tr>\n",
       "    <tr>\n",
       "      <th>224</th>\n",
       "      <td>-0.230146</td>\n",
       "      <td>-1.026805</td>\n",
       "      <td>West Bank and Gaza</td>\n",
       "    </tr>\n",
       "    <tr>\n",
       "      <th>226</th>\n",
       "      <td>-0.234745</td>\n",
       "      <td>-0.309643</td>\n",
       "      <td>Zambia</td>\n",
       "    </tr>\n",
       "    <tr>\n",
       "      <th>227</th>\n",
       "      <td>0.089420</td>\n",
       "      <td>-1.164705</td>\n",
       "      <td>Zimbabwe</td>\n",
       "    </tr>\n",
       "  </tbody>\n",
       "</table>\n",
       "<p>186 rows × 3 columns</p>\n",
       "</div>"
      ],
      "text/plain": [
       "     triad_01  wgi.voice     harmonized.name\n",
       "0   -0.185087  -1.006747         Afghanistan\n",
       "1    0.068945   0.142711             Albania\n",
       "2   -0.160862  -1.053524             Algeria\n",
       "3   -0.364029   1.272709      American Samoa\n",
       "4   -0.310922   1.110087             Andorra\n",
       "..        ...        ...                 ...\n",
       "220 -0.655749   0.680349             Vanuatu\n",
       "222  0.084107  -1.405620            Viet Nam\n",
       "224 -0.230146  -1.026805  West Bank and Gaza\n",
       "226 -0.234745  -0.309643              Zambia\n",
       "227  0.089420  -1.164705            Zimbabwe\n",
       "\n",
       "[186 rows x 3 columns]"
      ]
     },
     "execution_count": 149,
     "metadata": {},
     "output_type": "execute_result"
    }
   ],
   "source": [
    "df[[var1,var2,'harmonized.name']]"
   ]
  },
  {
   "cell_type": "code",
   "execution_count": null,
   "id": "79d48daf",
   "metadata": {},
   "outputs": [],
   "source": []
  }
 ],
 "metadata": {
  "kernelspec": {
   "display_name": "Python 3",
   "language": "python",
   "name": "python3"
  },
  "language_info": {
   "codemirror_mode": {
    "name": "ipython",
    "version": 3
   },
   "file_extension": ".py",
   "mimetype": "text/x-python",
   "name": "python",
   "nbconvert_exporter": "python",
   "pygments_lexer": "ipython3",
   "version": "3.9.5"
  }
 },
 "nbformat": 4,
 "nbformat_minor": 5
}
